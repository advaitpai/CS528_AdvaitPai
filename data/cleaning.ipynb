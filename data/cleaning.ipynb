{
 "cells": [
  {
   "cell_type": "code",
   "execution_count": 2,
   "metadata": {},
   "outputs": [],
   "source": [
    "import pandas as pd"
   ]
  },
  {
   "cell_type": "code",
   "execution_count": 3,
   "metadata": {},
   "outputs": [
    {
     "data": {
      "text/html": [
       "<div>\n",
       "<style scoped>\n",
       "    .dataframe tbody tr th:only-of-type {\n",
       "        vertical-align: middle;\n",
       "    }\n",
       "\n",
       "    .dataframe tbody tr th {\n",
       "        vertical-align: top;\n",
       "    }\n",
       "\n",
       "    .dataframe thead th {\n",
       "        text-align: right;\n",
       "    }\n",
       "</style>\n",
       "<table border=\"1\" class=\"dataframe\">\n",
       "  <thead>\n",
       "    <tr style=\"text-align: right;\">\n",
       "      <th></th>\n",
       "      <th>hip</th>\n",
       "      <th>dist</th>\n",
       "      <th>x0</th>\n",
       "      <th>y0</th>\n",
       "      <th>z0</th>\n",
       "      <th>absmag</th>\n",
       "      <th>mag</th>\n",
       "      <th>vx</th>\n",
       "      <th>vy</th>\n",
       "      <th>vz</th>\n",
       "      <th>spect</th>\n",
       "    </tr>\n",
       "  </thead>\n",
       "  <tbody>\n",
       "    <tr>\n",
       "      <th>0</th>\n",
       "      <td>NaN</td>\n",
       "      <td>0.0000</td>\n",
       "      <td>0.000005</td>\n",
       "      <td>0.000</td>\n",
       "      <td>0.000</td>\n",
       "      <td>4.850</td>\n",
       "      <td>-26.700</td>\n",
       "      <td>NaN</td>\n",
       "      <td>NaN</td>\n",
       "      <td>NaN</td>\n",
       "      <td>G2 V</td>\n",
       "    </tr>\n",
       "    <tr>\n",
       "      <th>1</th>\n",
       "      <td>NaN</td>\n",
       "      <td>509.1956</td>\n",
       "      <td>506.856000</td>\n",
       "      <td>0.003</td>\n",
       "      <td>-48.754</td>\n",
       "      <td>0.705</td>\n",
       "      <td>9.239</td>\n",
       "      <td>-19.904</td>\n",
       "      <td>54.306</td>\n",
       "      <td>-25.490</td>\n",
       "      <td>G8 IV</td>\n",
       "    </tr>\n",
       "    <tr>\n",
       "      <th>2</th>\n",
       "      <td>1.0</td>\n",
       "      <td>219.7802</td>\n",
       "      <td>219.741000</td>\n",
       "      <td>0.003</td>\n",
       "      <td>4.177</td>\n",
       "      <td>2.390</td>\n",
       "      <td>9.100</td>\n",
       "      <td>0.037</td>\n",
       "      <td>-5.418</td>\n",
       "      <td>-1.958</td>\n",
       "      <td>F3 V</td>\n",
       "    </tr>\n",
       "    <tr>\n",
       "      <th>3</th>\n",
       "      <td>NaN</td>\n",
       "      <td>817.1342</td>\n",
       "      <td>696.482000</td>\n",
       "      <td>0.041</td>\n",
       "      <td>427.341</td>\n",
       "      <td>-0.548</td>\n",
       "      <td>9.013</td>\n",
       "      <td>42.830</td>\n",
       "      <td>35.891</td>\n",
       "      <td>4.105</td>\n",
       "      <td>K2</td>\n",
       "    </tr>\n",
       "    <tr>\n",
       "      <th>4</th>\n",
       "      <td>2.0</td>\n",
       "      <td>37.3164</td>\n",
       "      <td>35.176000</td>\n",
       "      <td>0.003</td>\n",
       "      <td>-12.456</td>\n",
       "      <td>6.411</td>\n",
       "      <td>9.270</td>\n",
       "      <td>6.375</td>\n",
       "      <td>31.807</td>\n",
       "      <td>-2.454</td>\n",
       "      <td>K3 V</td>\n",
       "    </tr>\n",
       "    <tr>\n",
       "      <th>...</th>\n",
       "      <td>...</td>\n",
       "      <td>...</td>\n",
       "      <td>...</td>\n",
       "      <td>...</td>\n",
       "      <td>...</td>\n",
       "      <td>...</td>\n",
       "      <td>...</td>\n",
       "      <td>...</td>\n",
       "      <td>...</td>\n",
       "      <td>...</td>\n",
       "      <td>...</td>\n",
       "    </tr>\n",
       "    <tr>\n",
       "      <th>330336</th>\n",
       "      <td>NaN</td>\n",
       "      <td>2931.5317</td>\n",
       "      <td>1284.928000</td>\n",
       "      <td>-0.424</td>\n",
       "      <td>2634.926</td>\n",
       "      <td>-2.594</td>\n",
       "      <td>9.741</td>\n",
       "      <td>18.272</td>\n",
       "      <td>-51.160</td>\n",
       "      <td>-8.919</td>\n",
       "      <td>A1IA</td>\n",
       "    </tr>\n",
       "    <tr>\n",
       "      <th>330337</th>\n",
       "      <td>NaN</td>\n",
       "      <td>297.8780</td>\n",
       "      <td>88.998000</td>\n",
       "      <td>-0.027</td>\n",
       "      <td>284.272</td>\n",
       "      <td>0.791</td>\n",
       "      <td>8.161</td>\n",
       "      <td>15.289</td>\n",
       "      <td>-18.917</td>\n",
       "      <td>-23.038</td>\n",
       "      <td>K0</td>\n",
       "    </tr>\n",
       "    <tr>\n",
       "      <th>330338</th>\n",
       "      <td>NaN</td>\n",
       "      <td>177.7927</td>\n",
       "      <td>173.282000</td>\n",
       "      <td>-0.047</td>\n",
       "      <td>-39.793</td>\n",
       "      <td>3.528</td>\n",
       "      <td>9.778</td>\n",
       "      <td>24.590</td>\n",
       "      <td>-4.339</td>\n",
       "      <td>-19.176</td>\n",
       "      <td>F5</td>\n",
       "    </tr>\n",
       "    <tr>\n",
       "      <th>330339</th>\n",
       "      <td>NaN</td>\n",
       "      <td>212.4770</td>\n",
       "      <td>199.617000</td>\n",
       "      <td>-0.042</td>\n",
       "      <td>-72.797</td>\n",
       "      <td>2.917</td>\n",
       "      <td>9.554</td>\n",
       "      <td>19.501</td>\n",
       "      <td>70.668</td>\n",
       "      <td>-18.238</td>\n",
       "      <td>G8 IV</td>\n",
       "    </tr>\n",
       "    <tr>\n",
       "      <th>330340</th>\n",
       "      <td>NaN</td>\n",
       "      <td>642.0524</td>\n",
       "      <td>568.439000</td>\n",
       "      <td>-0.101</td>\n",
       "      <td>-298.509</td>\n",
       "      <td>0.126</td>\n",
       "      <td>9.164</td>\n",
       "      <td>-5.918</td>\n",
       "      <td>58.495</td>\n",
       "      <td>8.161</td>\n",
       "      <td>K2 III</td>\n",
       "    </tr>\n",
       "  </tbody>\n",
       "</table>\n",
       "<p>330341 rows × 11 columns</p>\n",
       "</div>"
      ],
      "text/plain": [
       "        hip       dist           x0     y0        z0  absmag     mag      vx  \\\n",
       "0       NaN     0.0000     0.000005  0.000     0.000   4.850 -26.700     NaN   \n",
       "1       NaN   509.1956   506.856000  0.003   -48.754   0.705   9.239 -19.904   \n",
       "2       1.0   219.7802   219.741000  0.003     4.177   2.390   9.100   0.037   \n",
       "3       NaN   817.1342   696.482000  0.041   427.341  -0.548   9.013  42.830   \n",
       "4       2.0    37.3164    35.176000  0.003   -12.456   6.411   9.270   6.375   \n",
       "...     ...        ...          ...    ...       ...     ...     ...     ...   \n",
       "330336  NaN  2931.5317  1284.928000 -0.424  2634.926  -2.594   9.741  18.272   \n",
       "330337  NaN   297.8780    88.998000 -0.027   284.272   0.791   8.161  15.289   \n",
       "330338  NaN   177.7927   173.282000 -0.047   -39.793   3.528   9.778  24.590   \n",
       "330339  NaN   212.4770   199.617000 -0.042   -72.797   2.917   9.554  19.501   \n",
       "330340  NaN   642.0524   568.439000 -0.101  -298.509   0.126   9.164  -5.918   \n",
       "\n",
       "            vy      vz   spect  \n",
       "0          NaN     NaN    G2 V  \n",
       "1       54.306 -25.490   G8 IV  \n",
       "2       -5.418  -1.958    F3 V  \n",
       "3       35.891   4.105      K2  \n",
       "4       31.807  -2.454    K3 V  \n",
       "...        ...     ...     ...  \n",
       "330336 -51.160  -8.919    A1IA  \n",
       "330337 -18.917 -23.038      K0  \n",
       "330338  -4.339 -19.176      F5  \n",
       "330339  70.668 -18.238   G8 IV  \n",
       "330340  58.495   8.161  K2 III  \n",
       "\n",
       "[330341 rows x 11 columns]"
      ]
     },
     "execution_count": 3,
     "metadata": {},
     "output_type": "execute_result"
    }
   ],
   "source": [
    "df1 = pd.read_csv('athyg_31_reduced_m10.csv')\n",
    "df1=df1[['hip','dist','x0','y0','z0','absmag','mag','vx','vy','vz','spect']]\n",
    "df1"
   ]
  },
  {
   "cell_type": "markdown",
   "metadata": {},
   "source": [
    "#### Data Description"
   ]
  },
  {
   "cell_type": "code",
   "execution_count": 4,
   "metadata": {},
   "outputs": [
    {
     "name": "stdout",
     "output_type": "stream",
     "text": [
      "<class 'pandas.core.frame.DataFrame'>\n",
      "RangeIndex: 330341 entries, 0 to 330340\n",
      "Data columns (total 11 columns):\n",
      " #   Column  Non-Null Count   Dtype  \n",
      "---  ------  --------------   -----  \n",
      " 0   hip     108606 non-null  float64\n",
      " 1   dist    327722 non-null  float64\n",
      " 2   x0      327722 non-null  float64\n",
      " 3   y0      327722 non-null  float64\n",
      " 4   z0      327722 non-null  float64\n",
      " 5   absmag  327722 non-null  float64\n",
      " 6   mag     330341 non-null  float64\n",
      " 7   vx      327721 non-null  float64\n",
      " 8   vy      327721 non-null  float64\n",
      " 9   vz      327721 non-null  float64\n",
      " 10  spect   275297 non-null  object \n",
      "dtypes: float64(10), object(1)\n",
      "memory usage: 27.7+ MB\n"
     ]
    }
   ],
   "source": [
    "df1.info()"
   ]
  },
  {
   "cell_type": "markdown",
   "metadata": {},
   "source": [
    "#### Dropping Values with missing X,Y,Z values and spect for now"
   ]
  },
  {
   "cell_type": "code",
   "execution_count": 5,
   "metadata": {},
   "outputs": [],
   "source": [
    "df1 = df1.dropna(subset=['x0','y0','z0','vx','vy','vz','spect'])"
   ]
  },
  {
   "cell_type": "code",
   "execution_count": 6,
   "metadata": {},
   "outputs": [
    {
     "name": "stdout",
     "output_type": "stream",
     "text": [
      "<class 'pandas.core.frame.DataFrame'>\n",
      "Int64Index: 273274 entries, 1 to 330340\n",
      "Data columns (total 11 columns):\n",
      " #   Column  Non-Null Count   Dtype  \n",
      "---  ------  --------------   -----  \n",
      " 0   hip     107867 non-null  float64\n",
      " 1   dist    273274 non-null  float64\n",
      " 2   x0      273274 non-null  float64\n",
      " 3   y0      273274 non-null  float64\n",
      " 4   z0      273274 non-null  float64\n",
      " 5   absmag  273274 non-null  float64\n",
      " 6   mag     273274 non-null  float64\n",
      " 7   vx      273274 non-null  float64\n",
      " 8   vy      273274 non-null  float64\n",
      " 9   vz      273274 non-null  float64\n",
      " 10  spect   273274 non-null  object \n",
      "dtypes: float64(10), object(1)\n",
      "memory usage: 25.0+ MB\n"
     ]
    }
   ],
   "source": [
    "df1.info()"
   ]
  },
  {
   "cell_type": "markdown",
   "metadata": {},
   "source": [
    "#### Analysing the Spect column and checking for the first characters that do not lie in 'OBAFGKM'"
   ]
  },
  {
   "cell_type": "code",
   "execution_count": 7,
   "metadata": {},
   "outputs": [
    {
     "name": "stdout",
     "output_type": "stream",
     "text": [
      "['C91', 'S7. 3E', 'CH', 'N', 'N', 'C8', 'R5(C45)', 'N', 'R2', 'DG', 'R2', 'R...', 'CE', '(B8)III', 'DELTA DEL', 'N', 'C', 'N0v', 'R5', 'sdF2:', 'DAs', 'C0ev', 'DF', 'R0', 'S5.1', 'N0v', 'R0', 'DA9N', 'DA', 'CH', '(A0)II', '(B7)I', 'R...', 'Se', 'DA', 'R5(C45)', 'C', 'Npvar', 'CH', 'C0e', 'N', 'S5.3', 'C', 'R0', 'R8(C53)', ':S4.2', 'Ce+...', 'R...', 'sdG4', 'C', 'DELTA DEL', 'R4', 'N', 'N', 'N', 'N', 'S4.2', 'C7,6E', 'sdF0:', 'N', 'C(S)', 'N', 'C', 'S', 'N', 'N0', 'N', 'N0v', 'N', 'R8', '(B9)', 'C', 'R8E', 'R2', 'N', 'N', 'N', 'N', 'DELTA DEL', 'N', 'DELTA DEL', 'S', 'N', 'R...', 'N0v', 'N', 'N0', 'Pec', 'N', 'N', 'R', 'N', 'S5.5,2', '(B0)III', 'N(C83)', 'N0v', 'S8.5', 'N', 'C', 'N', 'DELTA DEL', 'N0', 'DAn', 'S5.1', '(G) (II) + A/F', 'C', 'WN', 'C', 'DELTA DEL', 'N0v', '(B8)IV', 'R6pv', 'N', 'C', 'SE', 'N', 'S39e', 'C', 'CE', '(A2 II) + (F)PEC', 'N', 'sdG5:', 'C', 'C', 'C', 'R4', 'R4', 'S', 'R6', 'N', 'C', 'S', 'S', 'R6', 'S', 'R8', 'sdG2', 'S42e', 'C', 'NV...', '(K1 III + F/G)', 'RP', 'C', 'C', 'WC 8', 'DELTA DEL', 'C', 'R8', 'SE', 'NE', 'N', 'N...', '(G8) III + A', 'DELTA DEL', '(G)', 'C(R)e', 'R0', 'C', 'Ce', 'WC', 'N', 'R6v', 'R2', 'R1', 'R0', 'R5', 'DEL DEL:', 'R4(C44)', 'C', '(B)E', '(F0) (V)', '(G) + A/F', 'WN', '(F) + (F)', 'sdF5', 'C', 'C', 'R3', 'WN', 'C', 'C', 'NOVA-LIKE E', 'R0', 'CH', '6IV', 'C', 'WR', '(A3) IAB/B', '(K1) + (F)', 'C', 'C', 'C', 'WN', 'WC', 'WN', 'WN', 'N', 'C', 'N', 'PECULIAR E', 'WN', 'C', 'WC', 'C', 'CH', 'DA', 'C', 'DC:', 'C', 'C', 'S', '(M0/2)', 'sdF8:', 'C', '(B) + K2/3 (III)', 'SC45/8e', '(F)', 'C', 'C', 'C', 'C', 'DELTA DEL', 'S1.5.9E', 'N', 'R0', 'N', 'R', 'WC + O9.5/B0 IAB', '(S)', 'SC', 'WC', 'C', 'S2.5,9:', '(S)', 'C', 'R0', '(G3W)F7', 'DA', 'C', 'PECE', 'CE', 'DA:', 'WC', 'C', 'R2', 'C', 'C', '(F)', '(B)P', 'S2.9E:', 'C', 'C', 'S4', 'C', 'C', 'R0', 'C', 'C', 'R0', 'WC', 'C', 'C', 'WR', '(B5)V', '(O8/9)', '(B8)V', 'NEP', 'C', 'C', 'C', 'C', 'R0', 'DA', 'C', 'WN', 'WC', 'WN', '(F/K + A)', 'C', 'Ne', 'Ce(R-Nb)', 'C12', 'C', 'WC', 'WC', 'N', 'S5.4', 'S', 'R3', 'C', 'C', 'C', 'R0', 'C', 'NE', 'Nevar', 'sdM4', 'R...', 'WC', 'R5', 'WC', 'WC', 'R4', 'WC', 'C', '(O9) IA', '(B1/7) IAE', '(A2/3MA5-A8/F0)', 'C', 'C', 'N', 'C8', 'C', 'S4.58', 'N', 'C', 'C', 'C', 'C6II', 'C', 'dM0', 'C', 'N', 'C', '(G)', 'S7.2', '(CS)', 'R3', 'CPEC', 'C', 'DAw...', 'N', 'C', 'R5', '(F2II)', 'N0v', 'C', 'WC8', 'N', 'C', '(B3)IV', 'R0', 'CH', 'S', 'N', 'C', 'N', 'N', 'dK0', 'S7.5', 'N', 'R3', 'N0v', 'WN', 'N', 'WR', 'WN6', 'N', 'R0', 'WC', 'SE', 'WN5', 'WN5', 'C', '07+08', 'WR', 'Cme', 'WN', '(F5IAB)', '(G2I)', 'S5.8', 'C', 'DA', 'DELTA DEL', 'C7.4e', 'DAw', 'R2', 'R0', 'N0', 'DELTA DEL', '(09V)', 'PLANETARY', '(G)W', 'C', '(C)', 'R1', 'C', 'N0v', 'C', 'C6II', 'N', 'N', 'N', 'C', 'WN6 + M3III', 'DA:', 'N', 'R3', 'N', 'R2', 'C9e', 'S', '(G/K)', 'R0', '(G0)W(A)', 'sdG2', '(F)', 'N', 'R', 'S49e', 'S5.1', 'N', 'C3.4v', 'R...', 'R2', 'C', 'WN5', 'sdM:', 'N', 'R3E(C31)', 'R2', 'NE']\n"
     ]
    }
   ],
   "source": [
    "temp = [str(x) for x in df1['spect'] if str(x)[0] not in ['O','B','G','A','F','G','K','M']]\n",
    "print(temp)"
   ]
  },
  {
   "cell_type": "markdown",
   "metadata": {},
   "source": [
    "#### There are some brackets we can remove which are observed up"
   ]
  },
  {
   "cell_type": "code",
   "execution_count": 14,
   "metadata": {},
   "outputs": [
    {
     "name": "stderr",
     "output_type": "stream",
     "text": [
      "/var/folders/gq/1zg776tn7k582cx2hmn0jkhw0000gn/T/ipykernel_29926/2803047862.py:1: SettingWithCopyWarning: \n",
      "A value is trying to be set on a copy of a slice from a DataFrame.\n",
      "Try using .loc[row_indexer,col_indexer] = value instead\n",
      "\n",
      "See the caveats in the documentation: https://pandas.pydata.org/pandas-docs/stable/user_guide/indexing.html#returning-a-view-versus-a-copy\n",
      "  df1['spect'] = df1['spect'].apply(lambda x: x.replace('(','').replace(')','')[0])\n"
     ]
    }
   ],
   "source": [
    "df1['spect'] = df1['spect'].apply(lambda x: x.replace('(','').replace(')','')[0])"
   ]
  },
  {
   "cell_type": "code",
   "execution_count": 18,
   "metadata": {},
   "outputs": [
    {
     "data": {
      "text/plain": [
       "array(['G', 'F', 'K', 'B', 'M', 'A', 'O'], dtype=object)"
      ]
     },
     "execution_count": 18,
     "metadata": {},
     "output_type": "execute_result"
    }
   ],
   "source": [
    "df1 = df1[df1['spect'].isin(['O','B','A','F','G','K','M'])]\n",
    "df1['spect'].unique()"
   ]
  },
  {
   "cell_type": "code",
   "execution_count": 17,
   "metadata": {},
   "outputs": [
    {
     "name": "stdout",
     "output_type": "stream",
     "text": [
      "<class 'pandas.core.frame.DataFrame'>\n",
      "Int64Index: 272891 entries, 1 to 330340\n",
      "Data columns (total 11 columns):\n",
      " #   Column  Non-Null Count   Dtype  \n",
      "---  ------  --------------   -----  \n",
      " 0   hip     107546 non-null  float64\n",
      " 1   dist    272891 non-null  float64\n",
      " 2   x0      272891 non-null  float64\n",
      " 3   y0      272891 non-null  float64\n",
      " 4   z0      272891 non-null  float64\n",
      " 5   absmag  272891 non-null  float64\n",
      " 6   mag     272891 non-null  float64\n",
      " 7   vx      272891 non-null  float64\n",
      " 8   vy      272891 non-null  float64\n",
      " 9   vz      272891 non-null  float64\n",
      " 10  spect   272891 non-null  object \n",
      "dtypes: float64(10), object(1)\n",
      "memory usage: 25.0+ MB\n"
     ]
    }
   ],
   "source": [
    "df1.info()"
   ]
  },
  {
   "cell_type": "code",
   "execution_count": 19,
   "metadata": {},
   "outputs": [],
   "source": [
    "df1.to_csv('athyg_31_reduced_m10_cleaned.csv',index=False)"
   ]
  },
  {
   "cell_type": "code",
   "execution_count": null,
   "metadata": {},
   "outputs": [],
   "source": []
  }
 ],
 "metadata": {
  "kernelspec": {
   "display_name": "Python 3.8.16 ('CS418')",
   "language": "python",
   "name": "python3"
  },
  "language_info": {
   "codemirror_mode": {
    "name": "ipython",
    "version": 3
   },
   "file_extension": ".py",
   "mimetype": "text/x-python",
   "name": "python",
   "nbconvert_exporter": "python",
   "pygments_lexer": "ipython3",
   "version": "3.8.16"
  },
  "orig_nbformat": 4,
  "vscode": {
   "interpreter": {
    "hash": "10c476e975f7b3f67fdf2a1c40225d73a474afaac28ba77b22b9dd26694921bb"
   }
  }
 },
 "nbformat": 4,
 "nbformat_minor": 2
}
